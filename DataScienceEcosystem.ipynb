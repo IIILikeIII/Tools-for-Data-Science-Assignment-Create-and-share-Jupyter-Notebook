{
 "cells": [
  {
   "cell_type": "markdown",
   "id": "2394d774-1154-4663-a290-bfaef75c9447",
   "metadata": {
    "tags": []
   },
   "source": [
    "# Data Science Tools and Ecosystem"
   ]
  },
  {
   "cell_type": "markdown",
   "id": "0666909a-2bb2-4bb9-8ae5-78f272e37297",
   "metadata": {},
   "source": [
    "In this notebook, Data Science Tools and Ecosystem are summarized."
   ]
  },
  {
   "cell_type": "markdown",
   "id": "d3e56d55-83aa-4282-af1e-5a1343b42732",
   "metadata": {},
   "source": [
    "Some of the popular languages that Data Scientists use are:\n",
    "1. Python\n",
    "2. R Language\n",
    "3. SQL"
   ]
  },
  {
   "cell_type": "markdown",
   "id": "52bec8de-7f1c-4509-a912-d43b8335ec9f",
   "metadata": {},
   "source": [
    "**Objectives:** \n",
    "- List popular languages for Data Science .\n",
    "- Understanding environment tools for data science.\n",
    "- Using data science tools to find out insight in the data."
   ]
  },
  {
   "cell_type": "markdown",
   "id": "888455d5-6db6-4ca5-9dd2-4c010e0e0d90",
   "metadata": {},
   "source": [
    "Some of the commonly used libraries used by Data Scientists include:\n",
    "1. seaborn\n",
    "2. tensorflow\n",
    "3. pandas\n",
    "4. numpy\n",
    "5. matplotlib\n",
    "6. scikit-learn"
   ]
  },
  {
   "cell_type": "markdown",
   "id": "520d2279-8696-48bb-83cc-84bf9dccc351",
   "metadata": {},
   "source": [
    "| Data Science Tools|\n",
    "|----------------------|\n",
    "|Jupyter Notebook   |\n",
    "|Google Colab       |\n",
    "|VS studio          |\n"
   ]
  },
  {
   "cell_type": "markdown",
   "id": "f6aa94e9-fc27-40fd-90a7-14114ef673b2",
   "metadata": {},
   "source": [
    "### Below are a few examples of evaluating arithmetic expressions in Python"
   ]
  },
  {
   "cell_type": "code",
   "execution_count": 10,
   "id": "db889508-5bb5-435c-9e71-9af123c594ba",
   "metadata": {
    "tags": []
   },
   "outputs": [
    {
     "data": {
      "text/plain": [
       "17"
      ]
     },
     "execution_count": 10,
     "metadata": {},
     "output_type": "execute_result"
    }
   ],
   "source": [
    "# This a simple arithmetic expression to mutiply then add integers\n",
    "(3*4)+5\n"
   ]
  },
  {
   "cell_type": "code",
   "execution_count": 12,
   "id": "b305e399-3e62-4763-be6d-aab2d9227b5c",
   "metadata": {
    "tags": []
   },
   "outputs": [
    {
     "data": {
      "text/plain": [
       "3.3333333333333335"
      ]
     },
     "execution_count": 12,
     "metadata": {},
     "output_type": "execute_result"
    }
   ],
   "source": [
    "# This will convert 200 minutes to hours by diving by 60\n",
    "200/60"
   ]
  },
  {
   "cell_type": "markdown",
   "id": "9b9ab9a8-0d2b-4a10-8b2f-6e68cc405d8c",
   "metadata": {},
   "source": [
    "## Aunther \n",
    "Isoon Boonres"
   ]
  },
  {
   "cell_type": "code",
   "execution_count": null,
   "id": "afe4bf77-2f7d-4f06-a419-1819f64d71ed",
   "metadata": {},
   "outputs": [],
   "source": []
  }
 ],
 "metadata": {
  "kernelspec": {
   "display_name": "Python 3 (ipykernel)",
   "language": "python",
   "name": "python3"
  },
  "language_info": {
   "codemirror_mode": {
    "name": "ipython",
    "version": 3
   },
   "file_extension": ".py",
   "mimetype": "text/x-python",
   "name": "python",
   "nbconvert_exporter": "python",
   "pygments_lexer": "ipython3",
   "version": "3.11.5"
  }
 },
 "nbformat": 4,
 "nbformat_minor": 5
}
